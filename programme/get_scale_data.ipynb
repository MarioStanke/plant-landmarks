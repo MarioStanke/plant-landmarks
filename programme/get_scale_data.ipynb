{
 "cells": [
  {
   "cell_type": "code",
   "execution_count": 11,
   "metadata": {},
   "outputs": [],
   "source": [
    "#zuschneiden anhand der Skalenkoordinaten, um die Wäscheklammern abzuschneiden\n",
    "import glob\n",
    "from PIL import ImageDraw\n",
    "from PIL import Image\n",
    "import numpy as np\n",
    "import re\n",
    "import codecs\n",
    "import math\n",
    "import matplotlib.pyplot as plt\n",
    "from sklearn.linear_model import LinearRegression\n",
    "import ntpath"
   ]
  },
  {
   "cell_type": "markdown",
   "metadata": {},
   "source": [
    "## Hyperparameter"
   ]
  },
  {
   "cell_type": "code",
   "execution_count": 12,
   "metadata": {},
   "outputs": [],
   "source": [
    "# Pfade zu den Eingabedateien festlegen\n",
    "input_data = {\n",
    "    'dorsal': {\n",
    "        'infolder': \"DIP_images_fresh/images dorsal_2018/\",\n",
    "        'scale_data': \"DIP_fresh_data/dorsal_2018/#Morph_DIP_dorsal_scale_20181124.TPS\",\n",
    "        'landmark': \"DIP_fresh_data/dorsal_2018/#Morph_DIP_dorsal_view_20181125.TPS\" \n",
    "    },\n",
    "    'ventral': {\n",
    "        'infolder': \"DIP_images_fresh/images ventral_2018/\",\n",
    "        'scale_data': \"DIP_fresh_data/ventral_2018/#Morph_DIP_ventral_scale_20181124.TPS\",\n",
    "        'landmark': \"DIP_fresh_data/ventral_2018/#Morph_DIP_ventral_view_20181203.TPS\" \n",
    "    }\n",
    "}\n",
    "\n"
   ]
  },
  {
   "cell_type": "code",
   "execution_count": 13,
   "metadata": {},
   "outputs": [],
   "source": [
    "# gewaehlter schluessel im oberen dict.\n",
    "input_type = 'ventral'\n",
    "\n",
    "infolder = input_data[input_type]['infolder']\n",
    "inpaths = glob.glob(infolder + '*.jpg')\n",
    "outfolder = f\"out_all/landmarks/smallbox2/\"\n",
    "scale_data_path = input_data[input_type]['scale_data']\n",
    "\n",
    "\n",
    "#Landmarkenkoordinaten ermitteln und anpassen an die Drehung\n",
    "landmark_path = input_data[input_type]['landmark']"
   ]
  },
  {
   "cell_type": "code",
   "execution_count": 14,
   "metadata": {},
   "outputs": [],
   "source": [
    "scale_data = {}\n",
    "\n",
    "with codecs.open(landmark_path, 'r', encoding='utf-8',\n",
    "                 errors='ignore') as f:\n",
    "    \n",
    "    landmarks = []\n",
    "    \n",
    "    for line in f:\n",
    "        \n",
    "        if line.startswith(\"IMAGE\"):\n",
    "            filename = line[len(\"IMAGE=\"):].rstrip()\n",
    "            \n",
    "            lm = np.array(landmarks)\n",
    "            lm[:,1] = Image.open(infolder + filename).height - lm[:,1] #height - y-Koordinaten\n",
    "            scale_data[filename] = {\n",
    "                'landmarks': np.array(lm)\n",
    "            }\n",
    "            landmarks = []\n",
    "        else:\n",
    "            res = re.findall(\"\\d+\\.\\d+\", line)\n",
    "        \n",
    "            if len(res):\n",
    "                lm = np.array(res).astype(np.float)\n",
    "                landmarks.append( lm )\n",
    "            \n",
    "f.close() \n",
    "\n",
    "\n",
    "with codecs.open(scale_data_path, 'r', encoding='utf-8',\n",
    "                 errors='ignore') as f:\n",
    "    for line in f:\n",
    "        line = line.rstrip() #\\n entfernen\n",
    "        if line.startswith(\"LM=2\"): #bei jedem LM=2 folgen neue Informationen\n",
    "            left = np.array(next(f).rstrip().split(' ')).astype(np.float).astype(np.int)\n",
    "            right = np.array(next(f).rstrip().split(' ')).astype(np.float).astype(np.int)\n",
    "            filename = next(f).replace('IMAGE=','').rstrip()\n",
    "            \n",
    "            scale_data[filename]['left'] = left\n",
    "            scale_data[filename]['right']= right\n",
    "f.close()"
   ]
  },
  {
   "cell_type": "code",
   "execution_count": 15,
   "metadata": {},
   "outputs": [],
   "source": [
    "# gewaehlter schluessel im oberen dict.\n",
    "input_type = 'dorsal'\n",
    "\n",
    "infolder = input_data[input_type]['infolder']\n",
    "inpaths = glob.glob(infolder + '*.jpg')\n",
    "outfolder = f\"out_all/landmarks/smallbox2/\"\n",
    "scale_data_path = input_data[input_type]['scale_data']\n",
    "\n",
    "\n",
    "#Landmarkenkoordinaten ermitteln und anpassen an die Drehung\n",
    "landmark_path = input_data[input_type]['landmark']\n"
   ]
  },
  {
   "cell_type": "code",
   "execution_count": 16,
   "metadata": {},
   "outputs": [],
   "source": [
    "#scale_data = {}\n",
    "\n",
    "with codecs.open(landmark_path, 'r', encoding='utf-8',\n",
    "                 errors='ignore') as f:\n",
    "    \n",
    "    landmarks = []\n",
    "    \n",
    "    for line in f:\n",
    "        \n",
    "        if line.startswith(\"IMAGE\"):\n",
    "            filename = line[len(\"IMAGE=\"):].rstrip()\n",
    "            \n",
    "            lm = np.array(landmarks)\n",
    "            lm[:,1] = Image.open(infolder + filename).height - lm[:,1] #height - y-Koordinaten\n",
    "            scale_data[filename] = {\n",
    "                'landmarks': np.array(lm)\n",
    "            }\n",
    "            landmarks = []\n",
    "        else:\n",
    "            res = re.findall(\"\\d+\\.\\d+\", line)\n",
    "        \n",
    "            if len(res):\n",
    "                lm = np.array(res).astype(np.float)\n",
    "                landmarks.append( lm )\n",
    "            \n",
    "f.close() \n",
    "\n",
    "\n",
    "with codecs.open(scale_data_path, 'r', encoding='utf-8',\n",
    "                 errors='ignore') as f:\n",
    "    for line in f:\n",
    "        line = line.rstrip() #\\n entfernen\n",
    "        if line.startswith(\"LM=2\"): #bei jedem LM=2 folgen neue Informationen\n",
    "            left = np.array(next(f).rstrip().split(' ')).astype(np.float).astype(np.int)\n",
    "            right = np.array(next(f).rstrip().split(' ')).astype(np.float).astype(np.int)\n",
    "            filename = next(f).replace('IMAGE=','').rstrip()\n",
    "            \n",
    "            scale_data[filename]['left'] = left\n",
    "            scale_data[filename]['right']= right\n",
    "f.close()"
   ]
  },
  {
   "cell_type": "code",
   "execution_count": 19,
   "metadata": {},
   "outputs": [],
   "source": [
    "np.save(f'all_scale_data.npy',scale_data)"
   ]
  },
  {
   "cell_type": "code",
   "execution_count": null,
   "metadata": {},
   "outputs": [],
   "source": []
  }
 ],
 "metadata": {
  "kernelspec": {
   "display_name": "Python 3",
   "language": "python",
   "name": "python3"
  },
  "language_info": {
   "codemirror_mode": {
    "name": "ipython",
    "version": 3
   },
   "file_extension": ".py",
   "mimetype": "text/x-python",
   "name": "python",
   "nbconvert_exporter": "python",
   "pygments_lexer": "ipython3",
   "version": "3.7.5"
  }
 },
 "nbformat": 4,
 "nbformat_minor": 4
}
