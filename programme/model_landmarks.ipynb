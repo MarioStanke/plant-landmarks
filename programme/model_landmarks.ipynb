{
 "cells": [
  {
   "cell_type": "markdown",
   "metadata": {},
   "source": [
    "## Imports"
   ]
  },
  {
   "cell_type": "code",
   "execution_count": 1,
   "metadata": {},
   "outputs": [],
   "source": [
    "import numpy as np\n",
    "import tensorflow as tf\n",
    "from tensorflow.keras.layers import Dense, Flatten, Conv2D, MaxPooling2D, Dropout, BatchNormalization, Reshape\n",
    "import pandas as pd\n",
    "import pandas.util\n",
    "import matplotlib.pyplot as plt\n",
    "from sklearn.metrics import confusion_matrix, classification_report"
   ]
  },
  {
   "cell_type": "code",
   "execution_count": 2,
   "metadata": {},
   "outputs": [],
   "source": [
    "img_size = (200,100)    # width and height of all images (resize, if required)\n",
    "batch_size = 32  # for training and prediction"
   ]
  },
  {
   "cell_type": "code",
   "execution_count": 3,
   "metadata": {},
   "outputs": [],
   "source": [
    "test_df = pd.read_pickle(\"test_easy2_df.pkl\")\n",
    "train_df = pd.read_pickle(\"train_easy2_df.pkl\")\n",
    "val_df = pd.read_pickle(\"val_easy2_df.pkl\")"
   ]
  },
  {
   "cell_type": "code",
   "execution_count": 4,
   "metadata": {},
   "outputs": [],
   "source": [
    "def path_to_array(filename, landmarks):\n",
    "    \"\"\" Map a filename to an actual image tensor using image augmentation, one-hot encode label.\"\"\"\n",
    "    img = tf.io.read_file(filename)\n",
    "    img = tf.image.decode_png(img, channels = 3)\n",
    "    # now img is 3 dim array of numbers in {0,..., 255}\n",
    "    img = tf.cast(img, dtype = tf.float32) / 255. # scale to floating point number in [0,1] EVTL IN [-1,1] skalieren??????\n",
    " \n",
    "    return img, landmarks"
   ]
  },
  {
   "cell_type": "code",
   "execution_count": 5,
   "metadata": {},
   "outputs": [],
   "source": [
    "def make_dataset(df):\n",
    "    \"\"\" Make a tf dataset of images from a pd data frame of file paths \"\"\"\n",
    "\n",
    "    # first, make dataset with just the relevant: path and class\n",
    "    #print((df['path_landmarks'], df['landmarks']))\n",
    "    ds_path = tf.data.Dataset.from_tensor_slices((df['image_path'], df['landmarks']))\n",
    "\n",
    "    # convert to data set with actual images\n",
    "    ds = ds_path.map(path_to_array)\n",
    "    ds = ds.batch(batch_size)\n",
    "    return ds\n",
    "\n",
    "test_ds  = make_dataset(test_df)\n",
    "val_ds   = make_dataset(val_df)\n",
    "train_ds = make_dataset(train_df)\n",
    "train_ds = train_ds.repeat() # infinitely repeat"
   ]
  },
  {
   "cell_type": "code",
   "execution_count": 8,
   "metadata": {},
   "outputs": [],
   "source": [
    "# for val in val_ds:\n",
    "#     print(val)\n",
    "#val_ds"
   ]
  },
  {
   "cell_type": "code",
   "execution_count": 9,
   "metadata": {},
   "outputs": [
    {
     "name": "stdout",
     "output_type": "stream",
     "text": [
      "Model: \"sequential\"\n",
      "_________________________________________________________________\n",
      "Layer (type)                 Output Shape              Param #   \n",
      "=================================================================\n",
      "batch_normalization (BatchNo (None, 100, 200, 3)       12        \n",
      "_________________________________________________________________\n",
      "conv2d (Conv2D)              (None, 98, 198, 32)       896       \n",
      "_________________________________________________________________\n",
      "conv2d_1 (Conv2D)            (None, 96, 196, 32)       9248      \n",
      "_________________________________________________________________\n",
      "conv2d_2 (Conv2D)            (None, 94, 194, 32)       9248      \n",
      "_________________________________________________________________\n",
      "max_pooling2d (MaxPooling2D) (None, 47, 97, 32)        0         \n",
      "_________________________________________________________________\n",
      "dropout (Dropout)            (None, 47, 97, 32)        0         \n",
      "_________________________________________________________________\n",
      "conv2d_3 (Conv2D)            (None, 45, 95, 64)        18496     \n",
      "_________________________________________________________________\n",
      "conv2d_4 (Conv2D)            (None, 43, 93, 64)        36928     \n",
      "_________________________________________________________________\n",
      "conv2d_5 (Conv2D)            (None, 41, 91, 64)        36928     \n",
      "_________________________________________________________________\n",
      "max_pooling2d_1 (MaxPooling2 (None, 20, 45, 64)        0         \n",
      "_________________________________________________________________\n",
      "dropout_1 (Dropout)          (None, 20, 45, 64)        0         \n",
      "_________________________________________________________________\n",
      "conv2d_6 (Conv2D)            (None, 18, 43, 128)       73856     \n",
      "_________________________________________________________________\n",
      "conv2d_7 (Conv2D)            (None, 16, 41, 128)       147584    \n",
      "_________________________________________________________________\n",
      "conv2d_8 (Conv2D)            (None, 14, 39, 128)       147584    \n",
      "_________________________________________________________________\n",
      "max_pooling2d_2 (MaxPooling2 (None, 7, 19, 128)        0         \n",
      "_________________________________________________________________\n",
      "dropout_2 (Dropout)          (None, 7, 19, 128)        0         \n",
      "_________________________________________________________________\n",
      "flatten (Flatten)            (None, 17024)             0         \n",
      "_________________________________________________________________\n",
      "dense (Dense)                (None, 256)               4358400   \n",
      "_________________________________________________________________\n",
      "dropout_3 (Dropout)          (None, 256)               0         \n",
      "_________________________________________________________________\n",
      "dense_1 (Dense)              (None, 20)                5140      \n",
      "_________________________________________________________________\n",
      "reshape (Reshape)            (None, 10, 2)             0         \n",
      "=================================================================\n",
      "Total params: 4,844,320\n",
      "Trainable params: 4,844,314\n",
      "Non-trainable params: 6\n",
      "_________________________________________________________________\n"
     ]
    }
   ],
   "source": [
    "kernel_size = (3, 3)\n",
    "pool_size   = (2, 2)\n",
    "first_filters  = 32\n",
    "second_filters = 64\n",
    "third_filters  = 128\n",
    "dropout_conv  = 0.3\n",
    "dropout_dense = 0.3\n",
    "\n",
    "model = tf.keras.models.Sequential() # sequential stack of layers\n",
    "\n",
    "model.add( BatchNormalization(input_shape = (img_size[1],img_size[0], 3)))\n",
    "model.add( Conv2D (first_filters, kernel_size, activation = 'relu'))\n",
    "model.add( Conv2D (first_filters, kernel_size, activation = 'relu'))\n",
    "model.add( Conv2D (first_filters, kernel_size, activation = 'relu'))\n",
    "model.add( MaxPooling2D (pool_size = pool_size)) \n",
    "model.add( Dropout (dropout_conv))\n",
    "\n",
    "model.add( Conv2D (second_filters, kernel_size, activation ='relu'))\n",
    "model.add( Conv2D (second_filters, kernel_size, activation ='relu'))\n",
    "model.add( Conv2D (second_filters, kernel_size, activation ='relu'))\n",
    "model.add( MaxPooling2D (pool_size = pool_size))\n",
    "model.add( Dropout (dropout_conv))\n",
    "\n",
    "model.add( Conv2D (third_filters, kernel_size, activation ='relu'))\n",
    "model.add( Conv2D (third_filters, kernel_size, activation ='relu'))\n",
    "model.add( Conv2D (third_filters, kernel_size, activation ='relu'))\n",
    "model.add( MaxPooling2D (pool_size = pool_size))\n",
    "model.add( Dropout (dropout_conv))\n",
    "\n",
    "model.add( Flatten())\n",
    "model.add( Dense (256, activation = \"relu\", kernel_regularizer = tf.keras.regularizers.l2(0.001))) #fully connected layer\n",
    "model.add( Dropout (dropout_dense))\n",
    "model.add( Dense (20)) # activation weg weil regressionsproblem\n",
    "model.add( Reshape ((10,2)))\n",
    "\n",
    "model.summary()\n",
    "# draw an image with the layers\n",
    "# tf.keras.utils.plot_model(model)"
   ]
  },
  {
   "cell_type": "code",
   "execution_count": 10,
   "metadata": {},
   "outputs": [],
   "source": [
    "# define the loss, optimization algorithm and prepare the model for gradient computation \n",
    "model.compile(optimizer = tf.keras.optimizers.Adam(learning_rate = 0.0005),\n",
    "              loss = 'MSE', metrics = ['acc']) #loss = MSE"
   ]
  },
  {
   "cell_type": "code",
   "execution_count": 41,
   "metadata": {},
   "outputs": [
    {
     "name": "stdout",
     "output_type": "stream",
     "text": [
      "131/131 [============================>.] - ETA: 1s - loss: 992.9130 - acc: 0.9098 \n",
      "Epoch 00001: val_loss improved from inf to 416.00392, saving model to landmarks.h5\n",
      "132/131 [==============================] - 2280s 17s/step - loss: 986.4956 - acc: 0.9098 - val_loss: 416.0039 - val_acc: 1.0000\n"
     ]
    }
   ],
   "source": [
    "num_train = len(train_df)\n",
    "EPOCHS = 10\n",
    "\n",
    "# Callbacks: What should be done during (long) training?\n",
    "modelfname = \"landmarks_easy2.h5\"\n",
    "# Function to store model to file, if validation loss has a new record\n",
    "# Check always after having seen at least another save_freq examples.\n",
    "checkpoint = tf.keras.callbacks.ModelCheckpoint(\n",
    "    modelfname, monitor = 'val_loss', mode = 'min', \n",
    "    save_best_only = True, verbose = 1)\n",
    "\n",
    "# Function to decrease learning rate by 'factor'\n",
    "# when there has been no significant improvement in the last 'patience' epochs.\n",
    "reduce_lr = tf.keras.callbacks.ReduceLROnPlateau(\n",
    "    monitor = 'val_loss', mode = 'min', factor = 0.75, patience = 4, verbose = 1)\n",
    "                         \n",
    "# fit_generator is like fit, but training set generation (image reading) is run in parallel to optimization\n",
    "history = model.fit_generator(\n",
    "    train_ds, epochs = EPOCHS, \n",
    "    steps_per_epoch = num_train / batch_size, #would use each example once on average\n",
    "    validation_data = val_ds, verbose = 1,\n",
    "    callbacks = [checkpoint, reduce_lr])"
   ]
  },
  {
   "cell_type": "code",
   "execution_count": 20,
   "metadata": {},
   "outputs": [
    {
     "data": {
      "image/png": "[encoded data removed]",
      "text/plain": [
       "<Figure size 1080x432 with 2 Axes>"
      ]
     },
     "metadata": {
      "needs_background": "light"
     },
     "output_type": "display_data"
    }
   ],
   "source": [
    "# plot the training history as loss and accuracy curves\n",
    "acc = history.history['accuracy']\n",
    "val_acc = history.history['val_accuracy']\n",
    "loss = history.history['loss']\n",
    "val_loss = history.history['val_loss']\n",
    "\n",
    "epochs = range(1, len(acc) + 1)\n",
    "\n",
    "_, ax = plt.subplots(ncols = 2, figsize = (15, 6))\n",
    "ax[0].plot(epochs, loss, 'bo', label = 'Training loss')\n",
    "ax[0].plot(epochs, val_loss, 'g', label = 'Validation loss')\n",
    "ax[0].set_title('Training and validation loss')\n",
    "ax[0].legend()\n",
    "\n",
    "ax[1].plot(epochs, acc, 'bo', label = 'Training acc')\n",
    "ax[1].plot(epochs, val_acc, 'g', label = 'Validation acc')\n",
    "ax[1].set_title('Training and validation accuracy')\n",
    "ax[1].legend();"
   ]
  },
  {
   "cell_type": "code",
   "execution_count": 42,
   "metadata": {},
   "outputs": [
    {
     "name": "stdout",
     "output_type": "stream",
     "text": [
      "Loss on test set: 408.63048553466797 \n",
      "Accuracy on test set: 1.0\n"
     ]
    }
   ],
   "source": [
    "# Load the parameters with the best validation accuracy during training.\n",
    "# This works also if you interruped the training!\n",
    "model.load_weights(modelfname)\n",
    "\n",
    "test_loss, test_acc = model.evaluate(test_ds, verbose = 0)\n",
    "print(\"Loss on test set:\", test_loss, \"\\nAccuracy on test set:\", test_acc)"
   ]
  }
 ],
 "metadata": {
  "kernelspec": {
   "display_name": "Python 3",
   "language": "python",
   "name": "python3"
  },
  "language_info": {
   "codemirror_mode": {
    "name": "ipython",
    "version": 3
   },
   "file_extension": ".py",
   "mimetype": "text/x-python",
   "name": "python",
   "nbconvert_exporter": "python",
   "pygments_lexer": "ipython3",
   "version": "3.7.5"
  }
 },
 "nbformat": 4,
 "nbformat_minor": 4
}
