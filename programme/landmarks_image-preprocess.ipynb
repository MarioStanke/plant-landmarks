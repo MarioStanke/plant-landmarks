{
 "cells": [
  {
   "cell_type": "markdown",
   "metadata": {},
   "source": [
    "# Imports"
   ]
  },
  {
   "cell_type": "code",
   "execution_count": null,
   "metadata": {},
   "outputs": [],
   "source": [
    "import glob\n",
    "from PIL import ImageDraw\n",
    "from PIL import Image\n",
    "import numpy as np\n",
    "import re\n",
    "import codecs\n",
    "import math\n",
    "import matplotlib.pyplot as plt\n",
    "from sklearn.linear_model import LinearRegression\n",
    "import ntpath \n",
    "import tensorflow as tf\n",
    "import copy"
   ]
  },
  {
   "cell_type": "markdown",
   "metadata": {},
   "source": [
    "## Hyperparameter"
   ]
  },
  {
   "cell_type": "code",
   "execution_count": null,
   "metadata": {},
   "outputs": [],
   "source": [
    "SCALE_PATH = 'all_scale_data.npy'\n",
    "\n",
    "OUTSIZE = (200, 100)\n",
    "SCALE_WIDTH_CM = 2  # Breite in cm der Verbindungsgerade\n",
    "                    # zwischen den Skalenendpunkten\n",
    "SCALE_PADDING_FACTOR = 1.4 # Faktor der angibt um wie viel breiter\n",
    "                           # die Skala ist, als die Verbindungs-\n",
    "                           # gerade zwischen den Skalenpunkten.\n",
    "        \n",
    "                           # Im gebenenen Fall befinden sich die \n",
    "                           # Skalenendpunkte 2cm von einander entfernt.\n",
    "                           # Alle Skalen sind aber links und rechts um \n",
    "                           # mindestens 0.4cm breiter. Demnach haben sie\n",
    "                           # eine Gesamtbreite von 2.8cm = 1.4 * 2cm.\n",
    "NUM_TRANSLATIONS = 5 # Anzahl der Zufallstranslationen pro Bild\n",
    "TRANSLATION_DELTA = 30   # Translationen werden aus dem Bereich \n",
    "                        # [-TRANSLATION_DELTA, TRANSLATION_DELTA]\n",
    "                        # gewuerfelt\n",
    "\n",
    "INFOLDER = 'DIP_images_fresh/all/'\n",
    "OUTFOLDER = f\"out_all/smallbox2/\""
   ]
  },
  {
   "cell_type": "code",
   "execution_count": null,
   "metadata": {},
   "outputs": [],
   "source": [
    "# n = len(inpaths)\n",
    "# for i in range(n):    \n",
    "#     inpath = inpaths[i]\n",
    "#     filename = inpath[len(infolder):]\n",
    "#     img = Image.open(inpath)\n",
    "#     landmarks = scale_data[filename]['landmarks']\n",
    "#     img = draw_landmarks(img, landmarks, 3)\n",
    "#     img.save(f\"out_all/2/{filename}\")"
   ]
  },
  {
   "cell_type": "markdown",
   "metadata": {},
   "source": [
    "## Funktionen für Rechnung in der Affinenen Ebene"
   ]
  },
  {
   "cell_type": "code",
   "execution_count": null,
   "metadata": {},
   "outputs": [],
   "source": [
    "#Bogenmaß in Grad umrechnen\n",
    "def rad_to_deg(rad):\n",
    "    return rad * 360 / (2*np.pi) \n",
    "\n",
    "#Grad in Bogenmaß umrechnen\n",
    "def deg_to_rad(deg):\n",
    "    return deg / 360 * (2*np.pi)"
   ]
  },
  {
   "cell_type": "markdown",
   "metadata": {},
   "source": [
    "Wende die Affine Rotation\n",
    "$\\mathbb{A}_{\\varphi}(v) = O_{\\varphi}v + m$\n",
    "mit Rotationsmatrix $O_{\\varphi} = \\begin{pmatrix} \\operatorname{cos}(\\varphi) & \\operatorname{sin}(\\varphi) \\\\ - \\operatorname{sin}(\\varphi) & \\operatorname{cos}(\\varphi) \\end{pmatrix}$ um Mittelpunkt $m$ auf mehrere Vektoren $v = \\text{points}$ an."
   ]
  },
  {
   "cell_type": "code",
   "execution_count": null,
   "metadata": {},
   "outputs": [],
   "source": [
    "# Berechnet Koordinaten von points\n",
    "# in affinen Ebene nach rotieren um den center\n",
    "# Punkt um einen Winkel angle\n",
    "def affine_rotation(angle, middle, points):\n",
    "    \n",
    "    phi = deg_to_rad(angle) #Grad in Bogenmaß\n",
    "    \n",
    "    O = np.array([[np.cos(phi), np.sin(phi)],[-np.sin(phi), np.cos(phi)]]).reshape([2,2]) #Drehmatrix\n",
    "    v = points - middle\n",
    "    \n",
    "    flat = len(v.shape) == 1\n",
    "    \n",
    "    if flat:\n",
    "        v = v.reshape([1,2])\n",
    "        \n",
    "    #neue Koordinaten ermitteln durch Multiplikation mit Drehmatrix und Addition der Mitte\n",
    "    result = np.einsum('ij,kj -> ki', O, v) + middle      \n",
    "    \n",
    "    if flat:\n",
    "        result = result.flatten()\n",
    "    \n",
    "    return result\n"
   ]
  },
  {
   "cell_type": "markdown",
   "metadata": {},
   "source": [
    "Wende die inverse Affine Rotation\n",
    "$\\mathbb{A}_{\\varphi}(v) = O^\\intercal_{\\varphi}v + m$\n",
    "mit Rotationsmatrix $O^\\intercal_{\\varphi} = \\begin{pmatrix} \\operatorname{cos}(\\varphi) & -\\operatorname{sin}(\\varphi) \\\\ \\operatorname{sin}(\\varphi) & \\operatorname{cos}(\\varphi) \\end{pmatrix}$ um Mittelpunkt $m$ auf mehrere Vektoren $v = \\text{points}$ an."
   ]
  },
  {
   "cell_type": "code",
   "execution_count": null,
   "metadata": {},
   "outputs": [],
   "source": [
    "def inverse_affine_rotation(angle, middle, points):\n",
    "    \n",
    "    phi = deg_to_rad(angle) #Grad in Bogenmaß\n",
    "    \n",
    "    O = np.array([[np.cos(phi), np.sin(phi)],[-np.sin(phi), np.cos(phi)]]).reshape([2,2]) #Drehmatrix\n",
    "    v = points - middle\n",
    "    \n",
    "    flat = len(v.shape) == 1\n",
    "    \n",
    "    if flat:\n",
    "        v = v.reshape([1,2])\n",
    "        \n",
    "    #neue Koordinaten ermitteln durch Multiplikation mit Drehmatrix und Addition der Mitte\n",
    "    result = np.einsum('ij,kj -> ki', O.T, v) + middle     \n",
    "    \n",
    "    if flat:\n",
    "        result = result.flatten()\n",
    "    \n",
    "    return result"
   ]
  },
  {
   "cell_type": "markdown",
   "metadata": {},
   "source": [
    "Berechne den Geometrischen Schwerpunkt mittels s = $\\frac{1}{m}\\cdot\\sum\\limits_{i=1}^{m} x_{i} $"
   ]
  },
  {
   "cell_type": "code",
   "execution_count": null,
   "metadata": {},
   "outputs": [],
   "source": [
    "# Geometrischer Schwerpunkt mehrerer Punkte im Raum\n",
    "def centroid(points):\n",
    "    return np.mean(points, axis=0)"
   ]
  },
  {
   "cell_type": "code",
   "execution_count": null,
   "metadata": {},
   "outputs": [],
   "source": [
    "# verschiebung des Nullpunkts auf den Punkt new_origin\n",
    "def affine_translation(new_origin, points):\n",
    "    return points - new_origin"
   ]
  },
  {
   "cell_type": "markdown",
   "metadata": {},
   "source": [
    "# Verarbeitung"
   ]
  },
  {
   "cell_type": "markdown",
   "metadata": {},
   "source": [
    "## Rotationsaffinität für gegebenen Skalendaten eines Bilds berechnen"
   ]
  },
  {
   "cell_type": "code",
   "execution_count": null,
   "metadata": {},
   "outputs": [],
   "source": [
    "def affine_rotation_from_scale_data(img_dimension, scale_data, top_offset = 300):\n",
    "    \n",
    "    left = scale_data['left']\n",
    "    right = scale_data['right']\n",
    "    x1 = left[0]\n",
    "    y1 = left[1]\n",
    "    x2 = right[0]\n",
    "    y2 = right[1]\n",
    "    \n",
    "    l = np.array([x1,y1])\n",
    "    r = np.array([x2,y2])\n",
    "    angle = 0\n",
    "\n",
    "    if (y2 != y1):\n",
    "\n",
    "        alpha = np.arctan(np.abs(y2-y1) / np.abs(x2-x1)) #Winkel ausrechnen\n",
    "        angle = rad_to_deg(alpha)\n",
    "        angle = -np.sign(y2-y1) * angle #Vorzeichen ermitteln, um richtig zu drehen\n",
    "\n",
    "    middle = np.array( [img_dimension[0] / 2, img_dimension[1] / 2] ) #rotate dreht um den Mittelpunkt\n",
    "\n",
    "    return angle, middle"
   ]
  },
  {
   "cell_type": "markdown",
   "metadata": {},
   "source": [
    "## Rotationsaffinität von Skalendaten benutzen um eine passende Box auszuschneiden"
   ]
  },
  {
   "cell_type": "code",
   "execution_count": null,
   "metadata": {},
   "outputs": [],
   "source": [
    "def crop_from_scale_affinity(img, angle, middle, scale_data, top_offset = 300, scale_padding_factor=SCALE_PADDING_FACTOR):\n",
    "    \n",
    "    l = np.array(scale_data['left'])\n",
    "    r = np.array(scale_data['right'])\n",
    "    \n",
    "    l[1] = img.height-l[1] #auf andere Skala umrechnen mit (0,0) oben links\n",
    "    r[1] = img.height-r[1] \n",
    "    \n",
    "    scale_data = np.array([ [l[0], l[1]], [r[0], r[1]] ])\n",
    "    scale_data_rotated = affine_rotation(angle, middle, scale_data)\n",
    "    lnew = scale_data_rotated[0,:]\n",
    "    rnew = scale_data_rotated[1,:]\n",
    "    \n",
    "    img = img.rotate(angle) #rotieren mit Winkel als Grad\n",
    "\n",
    "    v = rnew - lnew\n",
    "    lnew = lnew - (scale_padding_factor - 1)/2*v\n",
    "    rnew = rnew + (scale_padding_factor - 1)/2*v\n",
    "    w = np.array([ v[1], -v[0] ])\n",
    "    ulnew = lnew + w\n",
    "    ulnew[1] = ulnew[1] - top_offset\n",
    "\n",
    "    box = (ulnew[0],ulnew[1],rnew[0],rnew[1]) #Box definieren\n",
    "\n",
    "    cropped = img.crop(box) #Bild zuschneiden\n",
    "    \n",
    "    return cropped, box"
   ]
  },
  {
   "cell_type": "markdown",
   "metadata": {},
   "source": [
    "## Affine Rotation so bestimmen, dass \"möglichst viel grün gerade ist\""
   ]
  },
  {
   "cell_type": "code",
   "execution_count": null,
   "metadata": {},
   "outputs": [],
   "source": [
    "def affine_rotation_from_scale_data_crop(cropped):\n",
    "    im_rgb = cropped.convert(\"RGB\")\n",
    "    I = np.transpose(np.array(im_rgb), (1,0,2))\n",
    "    I = I.astype(np.int64)\n",
    "\n",
    "    # schwellwerte fuer die einzelnen farbkanaele \n",
    "    # Dabei verbleiben: der Strang, weisser Hintergrund,\n",
    "    #                    gruene Klammern\n",
    "    wlim = 10\n",
    "    klim = 100\n",
    "\n",
    "    # Bestimme die einzelnen Farbkanaele\n",
    "    R = I[:,:,0]\n",
    "    G = I[:,:,1]\n",
    "    B = I[:,:,2]\n",
    "\n",
    "    # fuer die Erkennung des weissen Hintergrunds\n",
    "    W = np.max( np.c_[ np.abs(R-G)[:,:,np.newaxis], np.abs(B-G)[:,:,np.newaxis], np.abs(R-B)[:,:,np.newaxis] ], axis=2)\n",
    "\n",
    "    # Berechne die Bildmaske zur Erkennung des Strangs\n",
    "    J = (R <= G) & (B <= G) & (W > wlim) \n",
    "    x,y = J.nonzero()\n",
    "    reg = LinearRegression(fit_intercept = True).fit(x[:,np.newaxis],y)\n",
    "    \n",
    "    reg_coef = reg.coef_[0]\n",
    "    \n",
    "    line = reg.intercept_+reg.coef_*x\n",
    "    plt.imshow(J.T, cmap = 'gray')\n",
    "    plt.plot(x,line)\n",
    "    \n",
    "    angle = np.arctan(1 / np.abs(reg_coef)) * 180 / np.pi\n",
    "    angle = np.sign(reg_coef) * (90-angle)\n",
    "    middle = np.array( [cropped.width / 2, cropped.height / 2] ) #rotate dreht um den Mittelpunkt\n",
    "\n",
    "    return angle, middle"
   ]
  },
  {
   "cell_type": "code",
   "execution_count": null,
   "metadata": {},
   "outputs": [],
   "source": [
    "#affine_rotation_from_scale_data_crop(Image.open(\"out_crop/DIPalp16_2_d_3.jpg\"))"
   ]
  },
  {
   "cell_type": "markdown",
   "metadata": {},
   "source": [
    "### Für Testzwecke"
   ]
  },
  {
   "cell_type": "code",
   "execution_count": null,
   "metadata": {},
   "outputs": [],
   "source": [
    "def draw_landmarks(img, landmarks, radius = 10):\n",
    "    lm = landmarks\n",
    "    draw = ImageDraw.Draw(img)\n",
    "    for i in range(lm.shape[0]):\n",
    "        draw.ellipse((lm[i,0]-radius,lm[i,1]-radius, lm[i,0]+radius,lm[i,1]+radius),fill = 'red')\n",
    "    return img"
   ]
  },
  {
   "cell_type": "code",
   "execution_count": null,
   "metadata": {},
   "outputs": [],
   "source": [
    "scale_data = np.load(SCALE_PATH, allow_pickle = True)\n",
    "scale_data = scale_data[()]\n",
    "inpaths = glob.glob(INFOLDER + '*.jpg')\n",
    "\n",
    "outratio = OUTSIZE[0]/OUTSIZE[1]\n",
    "\n",
    "n = len(inpaths)   \n",
    "# Zufalls Translationen fuer x- und y-Koordinaten\n",
    "translations = np.random.randint(low=-TRANSLATION_DELTA,high=TRANSLATION_DELTA, size = (n,NUM_TRANSLATIONS,2))\n",
    "print(len(translations))\n",
    "transformed_landmarks = {}\n",
    "\n",
    "debug_steps = 10\n",
    "\n",
    "for i in range(n):\n",
    "    if i%debug_steps == 0:\n",
    "        print(f\"{i+1} / {n}\")\n",
    "            \n",
    "    inpath = inpaths[i]\n",
    "    filename = inpath[len(INFOLDER):]\n",
    "    img = Image.open(inpath)\n",
    "    \n",
    "    landmarks = copy.deepcopy(scale_data[filename]['landmarks'])\n",
    "   \n",
    "    a1, m1 = affine_rotation_from_scale_data(img.size, scale_data[filename])\n",
    "    cropped, box = crop_from_scale_affinity(img, a1, m1, scale_data[filename])\n",
    "    a2, m2_local = affine_rotation_from_scale_data_crop(cropped)\n",
    "    \n",
    "    #Komposition beider Winkel\n",
    "    angle = a1 + a2\n",
    "    #Verhältnis von Pixel zu cm \n",
    "    # Skalenendpunkte 2 cm voneinander entfernt, \n",
    "    #in crop_from_scale_affinity 1.4 fache drauf --> 2.8cm\n",
    "    box_width_in_cm = SCALE_PADDING_FACTOR * SCALE_WIDTH_CM\n",
    "    cm_pixel_ratio = (box[2] - box[0]) / box_width_in_cm #x/2.8 = 1cm\n",
    "    \n",
    "    #Mitte der Landmarken und des Bildes ausrechnen\n",
    "    middle_landmarks = centroid(landmarks)\n",
    "    middle_image = np.array(img.size) / 2\n",
    "    \n",
    "    #Verschiebungsvektor\n",
    "    v = middle_landmarks - middle_image\n",
    "    \n",
    "    #Mittelpunkt der Landmarken in die Mitte des Bilder verschieben\n",
    "    img = img.transform(img.size, Image.AFFINE, (1, 0, v[0], 0, 1, v[1]))\n",
    "    img = img.rotate(angle)\n",
    "\n",
    "    #neue Landmarkenkoordinaten nach Verschiebung\n",
    "    landmarks = affine_translation(v, landmarks)\n",
    "    \n",
    "    #neue Landmarkenkoordinaten nach der Drehung\n",
    "    landmarks = affine_rotation(angle, middle_image, landmarks)\n",
    "\n",
    "    middle_landmarks = centroid(landmarks)\n",
    "    \n",
    "    cm_height = SCALE_WIDTH_CM * (1/outratio)\n",
    "    \n",
    "    w_left = np.array([(cm_pixel_ratio * cm_width/2), (cm_pixel_ratio*cm_height/2)])\n",
    "    w_right = np.array([(cm_pixel_ratio * cm_width/2), (cm_pixel_ratio*cm_height/2)])\n",
    "    \n",
    "    left = middle_image - w_left \n",
    "    right = middle_image + w_right\n",
    "    \n",
    "    T = np.array(np.r_[np.matrix(((0,0))), translations[i,...]])\n",
    "    \n",
    "    \n",
    "    for t in range(NUM_TRANSLATIONS+1):\n",
    "        translation = T[t,:]\n",
    "        \n",
    "        left_t = left + translation\n",
    "        right_t = right + translation\n",
    "\n",
    "        box = (left_t[0],left_t[1],right_t[0],right_t[1]) \n",
    "        \n",
    "        cropped = img.crop(box)\n",
    "\n",
    "        #neue Landmark koordinaten nach dem Zuschneiden\n",
    "        landmarks_t = affine_translation(left_t, landmarks)\n",
    "        cropped = cropped.resize(OUTSIZE)\n",
    "        \n",
    "        #neue Landmarkenkoordinaten nach dem Skalieren\n",
    "        scaling_factor = (right_t[0]-left_t[0])/outsize[0]\n",
    "        landmarks_t = landmarks_t / scaling_factor\n",
    "       \n",
    "        #draw_landmarks(cropped, landmarks_t, radius = 2)\n",
    "        \n",
    "        filename_t = filename[:-len(\".jpg\")] + f\"_t{t}.jpg\"\n",
    "        cropped.save(OUTFOLDER + filename_t)\n",
    "        \n",
    "        transformed_landmarks[filename_t] = {\n",
    "            'landmarks' : landmarks_t\n",
    "        }\n",
    "\n",
    "np.save(f'preprocessed_landmarks.npy',transformed_landmarks)"
   ]
  },
  {
   "cell_type": "code",
   "execution_count": null,
   "metadata": {},
   "outputs": [],
   "source": [
    "# # eine kollage erstellen mit allen \n",
    "# # landmark bildern\n",
    "# columns = 10\n",
    "# lm_radius = 1\n",
    "# rows = math.ceil(len(scale_data) / columns)\n",
    "# filenames = list(transformed_landmarks.keys())\n",
    "\n",
    "# collage = Image.new('RGB', (columns * OUTSIZE[0], rows * OUTSIZE[1]))\n",
    "\n",
    "# for i in range(len(filenames)):\n",
    "#     filename = filenames[i]\n",
    "#     x = (i % columns) * OUTSIZE[0]\n",
    "#     y = (i // columns) * OUTSIZE[1]\n",
    "    \n",
    "#     lm = transformed_landmarks[filename]['landmarks']\n",
    "#     img = Image.open(OUTFOLDER + filename)\n",
    "#     draw = ImageDraw.Draw(img)\n",
    "#     for i in range(lm.shape[0]):\n",
    "#         draw.ellipse((lm[i,0]-lm_radius,lm[i,1]-lm_radius, lm[i,0]+lm_radius,lm[i,1]+lm_radius),fill = 'red')\n",
    "\n",
    "#     collage.paste(img, (x, y))\n",
    "# collage.save(f'all_collage_easy2.jpg')"
   ]
  }
 ],
 "metadata": {
  "kernelspec": {
   "display_name": "Python 3",
   "language": "python",
   "name": "python3"
  },
  "language_info": {
   "codemirror_mode": {
    "name": "ipython",
    "version": 3
   },
   "file_extension": ".py",
   "mimetype": "text/x-python",
   "name": "python",
   "nbconvert_exporter": "python",
   "pygments_lexer": "ipython3",
   "version": "3.7.5"
  }
 },
 "nbformat": 4,
 "nbformat_minor": 4
}
